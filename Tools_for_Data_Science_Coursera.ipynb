{
    "cells": [
        {
            "metadata": {
                "collapsed": true
            },
            "cell_type": "markdown",
            "source": "# Tools for Data Science - Coursera Peer Graded Assignment"
        },
        {
            "metadata": {},
            "cell_type": "markdown",
            "source": "## Introduction\n\nIn this Section we will be introduced to different aspects of data science such as languages, libraries and tools."
        },
        {
            "metadata": {},
            "cell_type": "markdown",
            "source": "### List of Data Science Languages\n\n- Python\n- R\n- Matlab\n- SQL\n- Scala\n- LISP\n- Keras\n- Perl\n- Rust\n- Golang\n- Octave\n- NLTK"
        },
        {
            "metadata": {},
            "cell_type": "markdown",
            "source": "### List of Data Science Libraries\n\n- Scikit-Learn\n- Scipy\n- Numpy\n- Pandas\n- Matplotlib\n- Tensorflow\n- Keras\n- PyTorch\n- Theano"
        },
        {
            "metadata": {},
            "cell_type": "markdown",
            "source": "### Data Science Tools\n\n| Tools             |\n|:------------------|\n| Apache Saprk      |\n| Apache Hadoop     |\n| Python            |\n| MS Excel          |\n| MS Power BI       |\n| Tableau           |\n| Kaggle            |\n| MongoDB           |"
        },
        {
            "metadata": {},
            "cell_type": "markdown",
            "source": "## Arithmetic Expressions"
        },
        {
            "metadata": {},
            "cell_type": "markdown",
            "source": "### Multiplication"
        },
        {
            "metadata": {},
            "cell_type": "code",
            "source": "def multiply(a, b):\n    return (a * b)\n\nprint(multiply(9, 8))",
            "execution_count": 1,
            "outputs": [
                {
                    "output_type": "stream",
                    "text": "72\n",
                    "name": "stdout"
                }
            ]
        },
        {
            "metadata": {},
            "cell_type": "markdown",
            "source": "### Additon"
        },
        {
            "metadata": {},
            "cell_type": "code",
            "source": "def add(a, b):\n    return(a + b)\n\nprint(add(9, 8))",
            "execution_count": 2,
            "outputs": [
                {
                    "output_type": "stream",
                    "text": "17\n",
                    "name": "stdout"
                }
            ]
        },
        {
            "metadata": {},
            "cell_type": "markdown",
            "source": "### Minutes to Hours"
        },
        {
            "metadata": {},
            "cell_type": "code",
            "source": "def minutes_to_hours(minutes):\n    total_hrs = minutes // 60\n    total_mins = minutes % 60\n    return f\"{total_hrs} hours {total_mins} minutes\"\n\nprint(minutes_to_hours(465))",
            "execution_count": 5,
            "outputs": [
                {
                    "output_type": "stream",
                    "text": "7 hours 45 minutes\n",
                    "name": "stdout"
                }
            ]
        },
        {
            "metadata": {},
            "cell_type": "markdown",
            "source": "## Objectives"
        },
        {
            "metadata": {},
            "cell_type": "markdown",
            "source": "The Objectives of this assignment are:-\n- Markdown in JupyterLite Notebook\n- Python in JupyterLite Notebook\n- Creating a well structred report using JupyterLite"
        },
        {
            "metadata": {},
            "cell_type": "markdown",
            "source": "## Author's Name: Siddarth Ambannavar"
        }
    ],
    "metadata": {
        "kernelspec": {
            "name": "python3",
            "display_name": "Python 3.10",
            "language": "python"
        },
        "language_info": {
            "name": "python",
            "version": "3.10.9",
            "mimetype": "text/x-python",
            "codemirror_mode": {
                "name": "ipython",
                "version": 3
            },
            "pygments_lexer": "ipython3",
            "nbconvert_exporter": "python",
            "file_extension": ".py"
        }
    },
    "nbformat": 4,
    "nbformat_minor": 1
}